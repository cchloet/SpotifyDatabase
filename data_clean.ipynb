{
 "cells": [
  {
   "cell_type": "code",
   "execution_count": 1,
   "id": "5edd2de8-33af-4d24-b545-c52ef93414f2",
   "metadata": {},
   "outputs": [],
   "source": [
    "import pandas as pd"
   ]
  },
  {
   "cell_type": "code",
   "execution_count": 2,
   "id": "99b20a92-4662-431e-821a-e088dbd3d2b3",
   "metadata": {},
   "outputs": [],
   "source": [
    "path = 'spotify_songs.csv'"
   ]
  },
  {
   "cell_type": "code",
   "execution_count": 3,
   "id": "28576338-a6e4-4610-ae84-4c195a5b8482",
   "metadata": {},
   "outputs": [],
   "source": [
    "df = pd.read_csv(path)"
   ]
  },
  {
   "cell_type": "code",
   "execution_count": 4,
   "id": "d7bdb802-6eb3-4f5f-8b56-ccb3cc2056fd",
   "metadata": {},
   "outputs": [],
   "source": [
    "eighty_eight_db = df[df['year']== 1988]"
   ]
  },
  {
   "cell_type": "code",
   "execution_count": 5,
   "id": "c68ce013-a736-41c5-8fc3-46fd16730f39",
   "metadata": {},
   "outputs": [],
   "source": [
    "ninety_nine_db = df[df['year']== 1999]"
   ]
  },
  {
   "cell_type": "code",
   "execution_count": 6,
   "id": "9f54e7f5-4b97-4573-9482-acedafec82df",
   "metadata": {},
   "outputs": [],
   "source": [
    "o_nine_db = df[df['year']== 2009]"
   ]
  },
  {
   "cell_type": "code",
   "execution_count": 7,
   "id": "43171eaa-fe51-40d2-8be2-c8c7f0961ab0",
   "metadata": {},
   "outputs": [],
   "source": [
    "songs_df = pd.concat([eighty_eight_db, ninety_nine_db, o_nine_db], axis=0)"
   ]
  },
  {
   "cell_type": "code",
   "execution_count": 9,
   "id": "0c7f135b-b0d2-4d5e-aa7e-be20edd1c970",
   "metadata": {},
   "outputs": [],
   "source": [
    "songs_df.to_csv('clean_songs.csv')"
   ]
  },
  {
   "cell_type": "code",
   "execution_count": null,
   "id": "ab2d7411-f0ba-43de-8105-944c27456fb1",
   "metadata": {},
   "outputs": [],
   "source": []
  }
 ],
 "metadata": {
  "kernelspec": {
   "display_name": "PythonData",
   "language": "python",
   "name": "pythondata"
  },
  "language_info": {
   "codemirror_mode": {
    "name": "ipython",
    "version": 3
   },
   "file_extension": ".py",
   "mimetype": "text/x-python",
   "name": "python",
   "nbconvert_exporter": "python",
   "pygments_lexer": "ipython3",
   "version": "3.7.1"
  }
 },
 "nbformat": 4,
 "nbformat_minor": 5
}
