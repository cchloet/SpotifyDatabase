{
 "cells": [
  {
   "cell_type": "code",
   "execution_count": null,
   "id": "d4be4bab-1191-4904-a46b-56be35a5343e",
   "metadata": {},
   "outputs": [],
   "source": [
    "import pandas as pd\n",
    "import matplotlib.pyplot as plt\n",
    "import numpy as np\n",
    "import sqlalchemy as db\n",
    "from sqlalchemy import create_engine\n",
    "from mpl_toolkits.mplot3d import Axes3D\n",
    "import seaborn as sns"
   ]
  },
  {
   "cell_type": "code",
   "execution_count": null,
   "id": "4f644ebe-c529-4e9d-9f63-f77c031f3f3d",
   "metadata": {},
   "outputs": [],
   "source": [
    "url = 'sqlite:///spotify.db'"
   ]
  },
  {
   "cell_type": "code",
   "execution_count": null,
   "id": "87f1f85b-8138-4784-872d-5c43dac25e6a",
   "metadata": {},
   "outputs": [],
   "source": [
    "engine = create_engine(url)"
   ]
  },
  {
   "cell_type": "code",
   "execution_count": null,
   "id": "3e54f5b8-0fe5-443a-a53b-2624c7b0a628",
   "metadata": {},
   "outputs": [],
   "source": [
    "songs = pd.read_sql_table('song', engine)\n",
    "songs"
   ]
  },
  {
   "cell_type": "code",
   "execution_count": null,
   "id": "337e005f-3127-48a6-ae3b-0f303cdec560",
   "metadata": {},
   "outputs": [],
   "source": [
    "attributes = pd.read_sql_table('attributes', engine)\n",
    "attributes.head()"
   ]
  },
  {
   "cell_type": "code",
   "execution_count": null,
   "id": "ed934f7f-5aa8-417d-bc6e-6163c7b14457",
   "metadata": {},
   "outputs": [],
   "source": [
    "# Create one df of songs and explicit value \n",
    "    # and another df for song and year\n",
    "explicit_list = attributes[['song_id', 'explicit']]\n",
    "song_years = songs[['song_id', 'year']]"
   ]
  },
  {
   "cell_type": "code",
   "execution_count": null,
   "id": "40451241-bcff-4251-ad71-78027af7d27b",
   "metadata": {},
   "outputs": [],
   "source": [
    "explicit_songs= pd.merge(explicit_list, song_years, on='song_id', how='outer')\n",
    "explicit_songs = explicit_songs.groupby(['year', 'explicit']).count()\n",
    "#explicit_songs = explicit_songs.groupby(['year']).count()\n",
    "explicit_songs"
   ]
  },
  {
   "cell_type": "markdown",
   "id": "b99fbabe-7fb2-4b8c-a6ff-2beec3720d6f",
   "metadata": {},
   "source": [
    "<font size=\"5\">Relationship plot of Explicit vs Non-Explicit songs per year</font>"
   ]
  },
  {
   "cell_type": "code",
   "execution_count": null,
   "id": "9efe9e3f-0b5a-463f-a6bb-5d26cb7b85ae",
   "metadata": {},
   "outputs": [],
   "source": [
    "sns.set_theme(style='whitegrid')\n",
    "\n",
    "\n",
    "sns.relplot(\n",
    "    data= explicit_songs,\n",
    "    x=['1988 True', '1988 False', '1999 True', '1999 False', '2009 True', '2009 False'],\n",
    "    y=\"song_id\",\n",
    "    hue=\"explicit\",\n",
    "    kind=\"line\",\n",
    ")\n",
    "plt.axis([0, 6,  0, 25000])\n",
    "plt.show()"
   ]
  },
  {
   "cell_type": "markdown",
   "id": "380ed150-f352-4cb0-9045-2d5c90fd1eb4",
   "metadata": {},
   "source": [
    "<font size=\"5\">Scatter Chart of Explicit v Non Explicit</font>\n",
    "\n",
    "\n",
    "<font size=\"2\">Showing the effects from loudness and danceability</font>"
   ]
  },
  {
   "cell_type": "code",
   "execution_count": null,
   "id": "ddb2b6eb",
   "metadata": {},
   "outputs": [],
   "source": [
    "explicit_ = attributes[attributes['explicit']== True]\n",
    "not_explicit = attributes[attributes['explicit']== False]\n",
    "\n",
    "explicit_loudness = explicit_['loudness']\n",
    "not_loud = not_explicit['loudness']\n",
    "explicit_danceability = explicit_['danceability']\n",
    "implicit_danceabilty = not_explicit['danceability']\n",
    "\n",
    "\n",
    "average_loudness = attributes['loudness'].mean()\n",
    "average_danceability = attributes['danceability'].mean()\n",
    "\n",
    "\n",
    "plt.axhline(average_danceability, color = 'purple', label = 'average danceability')\n",
    "plt.axvline(average_loudness, color = 'purple')\n",
    "#colors = ['red' if point > average_danceability else 'blue' for point in attributes['danceability'] ]\n",
    "sns.scatterplot(data= not_explicit, x='loudness', y='danceability', color= 'pink')\n",
    "sns.scatterplot(data= explicit_, x='loudness', y='danceability', color= 'purple')\n",
    "plt.legend(['pink = clean', 'purple = explicit'])\n",
    "\n"
   ]
  },
  {
   "cell_type": "code",
   "execution_count": null,
   "id": "a94fed06",
   "metadata": {},
   "outputs": [],
   "source": [
    "album_artist = pd.read_sql_table('album_artist', engine)\n",
    "alb_art_count = album_artist.groupby('artist_id').count()\n",
    "alb_art_count.reset_index(inplace=True)"
   ]
  },
  {
   "cell_type": "markdown",
   "id": "c62bee79-36ab-42b0-a7bc-c4041584cda9",
   "metadata": {},
   "source": [
    "<font size=\"5\">Histoplot showing the ratio between artist and albums</font>"
   ]
  },
  {
   "cell_type": "code",
   "execution_count": null,
   "id": "e8b0f678",
   "metadata": {},
   "outputs": [],
   "source": [
    "graph = alb_art_count.loc[alb_art_count['album_id'] < 400]\n",
    "sns.histplot(data=graph, x='artist_id', y='album_id')"
   ]
  },
  {
   "cell_type": "code",
   "execution_count": null,
   "id": "958f7012-8ac7-4c07-8074-73086872ce18",
   "metadata": {},
   "outputs": [],
   "source": []
  }
 ],
 "metadata": {
  "interpreter": {
   "hash": "722f599f5dd5563bbfd3351ea8e6f05932aee9cf6bb39c23018c27453bc3cb81"
  },
  "kernelspec": {
   "display_name": "Python 3 (ipykernel)",
   "language": "python",
   "name": "python3"
  },
  "language_info": {
   "codemirror_mode": {
    "name": "ipython",
    "version": 3
   },
   "file_extension": ".py",
   "mimetype": "text/x-python",
   "name": "python",
   "nbconvert_exporter": "python",
   "pygments_lexer": "ipython3",
   "version": "3.7.1"
  }
 },
 "nbformat": 4,
 "nbformat_minor": 5
}
